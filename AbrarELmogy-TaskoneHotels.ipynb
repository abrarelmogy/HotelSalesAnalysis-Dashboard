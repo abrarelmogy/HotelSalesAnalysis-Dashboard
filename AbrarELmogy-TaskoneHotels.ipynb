{
 "cells": [
  {
   "cell_type": "markdown",
   "id": "5e9b9c92",
   "metadata": {},
   "source": [
    "# Hotels Data\n",
    "## by (Abrar EL-Mogy)\n",
    "\n",
    "## Preliminary Wrangling\n",
    "\n",
    "> ****."
   ]
  },
  {
   "cell_type": "code",
   "execution_count": 1,
   "id": "c5f31f68",
   "metadata": {},
   "outputs": [],
   "source": [
    "# import all packages and libraries\n",
    "import numpy as np\n",
    "import pandas as pd\n",
    "import matplotlib.pyplot as plt\n",
    "%matplotlib inline\n",
    "import seaborn as sns"
   ]
  },
  {
   "cell_type": "code",
   "execution_count": 166,
   "id": "e099f3da",
   "metadata": {},
   "outputs": [],
   "source": [
    "#load our dataset(multiple sheets)\n",
    "df_area = pd.read_excel(\"Hotels.xlsx\", sheet_name=\"Area\")\n",
    "df_hotel = pd.read_excel(\"Hotels.xlsx\", sheet_name=\"Hotels\")"
   ]
  },
  {
   "cell_type": "code",
   "execution_count": 167,
   "id": "daf419c8",
   "metadata": {},
   "outputs": [
    {
     "data": {
      "text/html": [
       "<div>\n",
       "<style scoped>\n",
       "    .dataframe tbody tr th:only-of-type {\n",
       "        vertical-align: middle;\n",
       "    }\n",
       "\n",
       "    .dataframe tbody tr th {\n",
       "        vertical-align: top;\n",
       "    }\n",
       "\n",
       "    .dataframe thead th {\n",
       "        text-align: right;\n",
       "    }\n",
       "</style>\n",
       "<table border=\"1\" class=\"dataframe\">\n",
       "  <thead>\n",
       "    <tr style=\"text-align: right;\">\n",
       "      <th></th>\n",
       "      <th>Code</th>\n",
       "      <th>Hotel Name</th>\n",
       "      <th>Roomnights</th>\n",
       "      <th>Sale</th>\n",
       "      <th>Cost</th>\n",
       "      <th>Date</th>\n",
       "    </tr>\n",
       "  </thead>\n",
       "  <tbody>\n",
       "    <tr>\n",
       "      <th>0</th>\n",
       "      <td>CODE|87851</td>\n",
       "      <td>Best Western Premier Al Ahsa Grand Hotel &amp; Suites</td>\n",
       "      <td>57</td>\n",
       "      <td>1140</td>\n",
       "      <td>1140</td>\n",
       "      <td>01, 2019</td>\n",
       "    </tr>\n",
       "    <tr>\n",
       "      <th>1</th>\n",
       "      <td>CODE|87816</td>\n",
       "      <td>Best Western Premier Airporthotel Fontane Berlin</td>\n",
       "      <td>1935</td>\n",
       "      <td>50310</td>\n",
       "      <td>38700</td>\n",
       "      <td>08, 2019</td>\n",
       "    </tr>\n",
       "    <tr>\n",
       "      <th>2</th>\n",
       "      <td>CODE|87781</td>\n",
       "      <td>Best Western Premier Agung Resort Ubud</td>\n",
       "      <td>1897</td>\n",
       "      <td>37940</td>\n",
       "      <td>34146</td>\n",
       "      <td>01, 2019</td>\n",
       "    </tr>\n",
       "    <tr>\n",
       "      <th>3</th>\n",
       "      <td>CODE|87746</td>\n",
       "      <td>Best Western Posada Freeman</td>\n",
       "      <td>1294</td>\n",
       "      <td>38820</td>\n",
       "      <td>25880</td>\n",
       "      <td>06, 2019</td>\n",
       "    </tr>\n",
       "    <tr>\n",
       "      <th>4</th>\n",
       "      <td>CODE|87711</td>\n",
       "      <td>Best Western Pony Soldier Inn &amp; Suites</td>\n",
       "      <td>828</td>\n",
       "      <td>22356</td>\n",
       "      <td>13248</td>\n",
       "      <td>12, 2019</td>\n",
       "    </tr>\n",
       "  </tbody>\n",
       "</table>\n",
       "</div>"
      ],
      "text/plain": [
       "         Code                                         Hotel Name  Roomnights  \\\n",
       "0  CODE|87851  Best Western Premier Al Ahsa Grand Hotel & Suites          57   \n",
       "1  CODE|87816   Best Western Premier Airporthotel Fontane Berlin        1935   \n",
       "2  CODE|87781             Best Western Premier Agung Resort Ubud        1897   \n",
       "3  CODE|87746                        Best Western Posada Freeman        1294   \n",
       "4  CODE|87711             Best Western Pony Soldier Inn & Suites         828   \n",
       "\n",
       "    Sale   Cost      Date  \n",
       "0   1140   1140  01, 2019  \n",
       "1  50310  38700  08, 2019  \n",
       "2  37940  34146  01, 2019  \n",
       "3  38820  25880  06, 2019  \n",
       "4  22356  13248  12, 2019  "
      ]
     },
     "execution_count": 167,
     "metadata": {},
     "output_type": "execute_result"
    }
   ],
   "source": [
    "df_hotel.head()"
   ]
  },
  {
   "cell_type": "code",
   "execution_count": 168,
   "id": "9ad1cb3d",
   "metadata": {},
   "outputs": [
    {
     "data": {
      "text/html": [
       "<div>\n",
       "<style scoped>\n",
       "    .dataframe tbody tr th:only-of-type {\n",
       "        vertical-align: middle;\n",
       "    }\n",
       "\n",
       "    .dataframe tbody tr th {\n",
       "        vertical-align: top;\n",
       "    }\n",
       "\n",
       "    .dataframe thead th {\n",
       "        text-align: right;\n",
       "    }\n",
       "</style>\n",
       "<table border=\"1\" class=\"dataframe\">\n",
       "  <thead>\n",
       "    <tr style=\"text-align: right;\">\n",
       "      <th></th>\n",
       "      <th>Hotel ID</th>\n",
       "      <th>Country</th>\n",
       "    </tr>\n",
       "  </thead>\n",
       "  <tbody>\n",
       "    <tr>\n",
       "      <th>0</th>\n",
       "      <td>CODE|9976</td>\n",
       "      <td>Spain</td>\n",
       "    </tr>\n",
       "    <tr>\n",
       "      <th>1</th>\n",
       "      <td>CODE|9941</td>\n",
       "      <td>Chile</td>\n",
       "    </tr>\n",
       "    <tr>\n",
       "      <th>2</th>\n",
       "      <td>CODE|9906</td>\n",
       "      <td>Colombia</td>\n",
       "    </tr>\n",
       "    <tr>\n",
       "      <th>3</th>\n",
       "      <td>CODE|9871</td>\n",
       "      <td>Mexico</td>\n",
       "    </tr>\n",
       "    <tr>\n",
       "      <th>4</th>\n",
       "      <td>CODE|9836</td>\n",
       "      <td>Spain</td>\n",
       "    </tr>\n",
       "  </tbody>\n",
       "</table>\n",
       "</div>"
      ],
      "text/plain": [
       "    Hotel ID   Country\n",
       "0  CODE|9976     Spain\n",
       "1  CODE|9941     Chile\n",
       "2  CODE|9906  Colombia\n",
       "3  CODE|9871    Mexico\n",
       "4  CODE|9836     Spain"
      ]
     },
     "execution_count": 168,
     "metadata": {},
     "output_type": "execute_result"
    }
   ],
   "source": [
    "df_area.head()"
   ]
  },
  {
   "cell_type": "markdown",
   "id": "d1bba29c",
   "metadata": {},
   "source": [
    "### Let's explore the data to detect the issues.\n"
   ]
  },
  {
   "cell_type": "markdown",
   "id": "bbe31206",
   "metadata": {},
   "source": [
    "### Hotel Sheet"
   ]
  },
  {
   "cell_type": "markdown",
   "id": "780480c9",
   "metadata": {},
   "source": [
    "####    1- Let's explore the columns datatype and names"
   ]
  },
  {
   "cell_type": "code",
   "execution_count": 169,
   "id": "9cc27e53",
   "metadata": {},
   "outputs": [
    {
     "name": "stdout",
     "output_type": "stream",
     "text": [
      "<class 'pandas.core.frame.DataFrame'>\n",
      "RangeIndex: 2509 entries, 0 to 2508\n",
      "Data columns (total 6 columns):\n",
      " #   Column      Non-Null Count  Dtype \n",
      "---  ------      --------------  ----- \n",
      " 0   Code        2509 non-null   object\n",
      " 1   Hotel Name  2509 non-null   object\n",
      " 2   Roomnights  2509 non-null   int64 \n",
      " 3   Sale        2509 non-null   int64 \n",
      " 4   Cost        2509 non-null   int64 \n",
      " 5   Date        2509 non-null   object\n",
      "dtypes: int64(3), object(3)\n",
      "memory usage: 117.7+ KB\n"
     ]
    }
   ],
   "source": [
    "#[HotelSheet]check original data Types\n",
    "df_hotel.info()"
   ]
  },
  {
   "cell_type": "code",
   "execution_count": 170,
   "id": "19247307",
   "metadata": {},
   "outputs": [
    {
     "data": {
      "text/plain": [
       "(2509, 6)"
      ]
     },
     "execution_count": 170,
     "metadata": {},
     "output_type": "execute_result"
    }
   ],
   "source": [
    "#[HotelSheet]check original data shape\n",
    "df_hotel.shape"
   ]
  },
  {
   "cell_type": "markdown",
   "id": "12bfa478",
   "metadata": {},
   "source": [
    ">*Date column could be changed to Date type.*"
   ]
  },
  {
   "cell_type": "markdown",
   "id": "a54c7d9c",
   "metadata": {},
   "source": [
    "####    2- Check missing data"
   ]
  },
  {
   "cell_type": "code",
   "execution_count": 171,
   "id": "211e5b84",
   "metadata": {},
   "outputs": [
    {
     "data": {
      "text/plain": [
       "Code          0\n",
       "Hotel Name    0\n",
       "Roomnights    0\n",
       "Sale          0\n",
       "Cost          0\n",
       "Date          0\n",
       "dtype: int64"
      ]
     },
     "execution_count": 171,
     "metadata": {},
     "output_type": "execute_result"
    }
   ],
   "source": [
    "#[HotelSheet]we need to check if any null values in dataset\n",
    "df_hotel.isna().sum()"
   ]
  },
  {
   "cell_type": "markdown",
   "id": "38004a40",
   "metadata": {},
   "source": [
    ">*No missing data found.*"
   ]
  },
  {
   "cell_type": "markdown",
   "id": "ea804af1",
   "metadata": {},
   "source": [
    "#### 3- Check for duplicates data"
   ]
  },
  {
   "cell_type": "code",
   "execution_count": 172,
   "id": "efaa7c01",
   "metadata": {},
   "outputs": [
    {
     "data": {
      "text/plain": [
       "9"
      ]
     },
     "execution_count": 172,
     "metadata": {},
     "output_type": "execute_result"
    }
   ],
   "source": [
    "#[HotelSheet] check if any duplicate values in dataset\n",
    "sum(df_hotel.duplicated())"
   ]
  },
  {
   "cell_type": "code",
   "execution_count": 173,
   "id": "4dc2ed94",
   "metadata": {},
   "outputs": [
    {
     "data": {
      "text/html": [
       "<div>\n",
       "<style scoped>\n",
       "    .dataframe tbody tr th:only-of-type {\n",
       "        vertical-align: middle;\n",
       "    }\n",
       "\n",
       "    .dataframe tbody tr th {\n",
       "        vertical-align: top;\n",
       "    }\n",
       "\n",
       "    .dataframe thead th {\n",
       "        text-align: right;\n",
       "    }\n",
       "</style>\n",
       "<table border=\"1\" class=\"dataframe\">\n",
       "  <thead>\n",
       "    <tr style=\"text-align: right;\">\n",
       "      <th></th>\n",
       "      <th>Code</th>\n",
       "      <th>Hotel Name</th>\n",
       "      <th>Roomnights</th>\n",
       "      <th>Sale</th>\n",
       "      <th>Cost</th>\n",
       "      <th>Date</th>\n",
       "    </tr>\n",
       "  </thead>\n",
       "  <tbody>\n",
       "    <tr>\n",
       "      <th>31</th>\n",
       "      <td>CODE|86766</td>\n",
       "      <td>Best Western Plus Suites Hotel</td>\n",
       "      <td>1302</td>\n",
       "      <td>26040</td>\n",
       "      <td>19530</td>\n",
       "      <td>2019-09-01</td>\n",
       "    </tr>\n",
       "    <tr>\n",
       "      <th>32</th>\n",
       "      <td>CODE|86766</td>\n",
       "      <td>Best Western Plus Suites Hotel</td>\n",
       "      <td>1302</td>\n",
       "      <td>26040</td>\n",
       "      <td>19530</td>\n",
       "      <td>2019-09-01</td>\n",
       "    </tr>\n",
       "    <tr>\n",
       "      <th>33</th>\n",
       "      <td>CODE|86731</td>\n",
       "      <td>Best Western Plus Suitcase Paris La Défense</td>\n",
       "      <td>1900</td>\n",
       "      <td>45600</td>\n",
       "      <td>30400</td>\n",
       "      <td>2019-05-01</td>\n",
       "    </tr>\n",
       "    <tr>\n",
       "      <th>34</th>\n",
       "      <td>CODE|86731</td>\n",
       "      <td>Best Western Plus Suitcase Paris La Défense</td>\n",
       "      <td>1900</td>\n",
       "      <td>45600</td>\n",
       "      <td>30400</td>\n",
       "      <td>2019-05-01</td>\n",
       "    </tr>\n",
       "    <tr>\n",
       "      <th>35</th>\n",
       "      <td>CODE|86696</td>\n",
       "      <td>Best Western Plus Stovall's Inn</td>\n",
       "      <td>1313</td>\n",
       "      <td>38077</td>\n",
       "      <td>23634</td>\n",
       "      <td>2019-02-01</td>\n",
       "    </tr>\n",
       "    <tr>\n",
       "      <th>36</th>\n",
       "      <td>CODE|86696</td>\n",
       "      <td>Best Western Plus Stovall's Inn</td>\n",
       "      <td>1313</td>\n",
       "      <td>38077</td>\n",
       "      <td>23634</td>\n",
       "      <td>2019-02-01</td>\n",
       "    </tr>\n",
       "    <tr>\n",
       "      <th>163</th>\n",
       "      <td>CODE|82251</td>\n",
       "      <td>BEST WESTERN PLUS Executive Hotel and Suites</td>\n",
       "      <td>793</td>\n",
       "      <td>18239</td>\n",
       "      <td>15067</td>\n",
       "      <td>2019-02-01</td>\n",
       "    </tr>\n",
       "    <tr>\n",
       "      <th>164</th>\n",
       "      <td>CODE|82251</td>\n",
       "      <td>BEST WESTERN PLUS Executive Hotel and Suites</td>\n",
       "      <td>793</td>\n",
       "      <td>18239</td>\n",
       "      <td>15067</td>\n",
       "      <td>2019-02-01</td>\n",
       "    </tr>\n",
       "    <tr>\n",
       "      <th>165</th>\n",
       "      <td>CODE|82216</td>\n",
       "      <td>Best Western Plus Executive Court Inn &amp; Confer...</td>\n",
       "      <td>435</td>\n",
       "      <td>9570</td>\n",
       "      <td>8700</td>\n",
       "      <td>2019-05-01</td>\n",
       "    </tr>\n",
       "    <tr>\n",
       "      <th>166</th>\n",
       "      <td>CODE|82216</td>\n",
       "      <td>Best Western Plus Executive Court Inn &amp; Confer...</td>\n",
       "      <td>435</td>\n",
       "      <td>9570</td>\n",
       "      <td>8700</td>\n",
       "      <td>2019-05-01</td>\n",
       "    </tr>\n",
       "    <tr>\n",
       "      <th>2231</th>\n",
       "      <td>CODE|9556</td>\n",
       "      <td>AC Hotel Paris Porte Maillot</td>\n",
       "      <td>473</td>\n",
       "      <td>12771</td>\n",
       "      <td>8041</td>\n",
       "      <td>2019-07-01</td>\n",
       "    </tr>\n",
       "    <tr>\n",
       "      <th>2232</th>\n",
       "      <td>CODE|9556</td>\n",
       "      <td>AC Hotel Paris Porte Maillot</td>\n",
       "      <td>473</td>\n",
       "      <td>12771</td>\n",
       "      <td>8041</td>\n",
       "      <td>2019-07-01</td>\n",
       "    </tr>\n",
       "    <tr>\n",
       "      <th>2233</th>\n",
       "      <td>CODE|9521</td>\n",
       "      <td>AC Hotel Palencia</td>\n",
       "      <td>194</td>\n",
       "      <td>5820</td>\n",
       "      <td>2910</td>\n",
       "      <td>2019-10-01</td>\n",
       "    </tr>\n",
       "    <tr>\n",
       "      <th>2234</th>\n",
       "      <td>CODE|9521</td>\n",
       "      <td>AC Hotel Palencia</td>\n",
       "      <td>194</td>\n",
       "      <td>5820</td>\n",
       "      <td>2910</td>\n",
       "      <td>2019-10-01</td>\n",
       "    </tr>\n",
       "    <tr>\n",
       "      <th>2235</th>\n",
       "      <td>CODE|9486</td>\n",
       "      <td>AC Hotel Palau de Bellavista</td>\n",
       "      <td>759</td>\n",
       "      <td>18975</td>\n",
       "      <td>12903</td>\n",
       "      <td>2019-11-01</td>\n",
       "    </tr>\n",
       "    <tr>\n",
       "      <th>2236</th>\n",
       "      <td>CODE|9486</td>\n",
       "      <td>AC Hotel Palau de Bellavista</td>\n",
       "      <td>759</td>\n",
       "      <td>18975</td>\n",
       "      <td>12903</td>\n",
       "      <td>2019-11-01</td>\n",
       "    </tr>\n",
       "    <tr>\n",
       "      <th>2480</th>\n",
       "      <td>CODE|946</td>\n",
       "      <td>Conrad Koh Samui Residences</td>\n",
       "      <td>1100</td>\n",
       "      <td>29700</td>\n",
       "      <td>20900</td>\n",
       "      <td>2019-02-01</td>\n",
       "    </tr>\n",
       "    <tr>\n",
       "      <th>2481</th>\n",
       "      <td>CODE|946</td>\n",
       "      <td>Conrad Koh Samui Residences</td>\n",
       "      <td>1100</td>\n",
       "      <td>29700</td>\n",
       "      <td>20900</td>\n",
       "      <td>2019-02-01</td>\n",
       "    </tr>\n",
       "  </tbody>\n",
       "</table>\n",
       "</div>"
      ],
      "text/plain": [
       "            Code                                         Hotel Name  \\\n",
       "31    CODE|86766                     Best Western Plus Suites Hotel   \n",
       "32    CODE|86766                     Best Western Plus Suites Hotel   \n",
       "33    CODE|86731        Best Western Plus Suitcase Paris La Défense   \n",
       "34    CODE|86731        Best Western Plus Suitcase Paris La Défense   \n",
       "35    CODE|86696                    Best Western Plus Stovall's Inn   \n",
       "36    CODE|86696                    Best Western Plus Stovall's Inn   \n",
       "163   CODE|82251       BEST WESTERN PLUS Executive Hotel and Suites   \n",
       "164   CODE|82251       BEST WESTERN PLUS Executive Hotel and Suites   \n",
       "165   CODE|82216  Best Western Plus Executive Court Inn & Confer...   \n",
       "166   CODE|82216  Best Western Plus Executive Court Inn & Confer...   \n",
       "2231   CODE|9556                       AC Hotel Paris Porte Maillot   \n",
       "2232   CODE|9556                       AC Hotel Paris Porte Maillot   \n",
       "2233   CODE|9521                                  AC Hotel Palencia   \n",
       "2234   CODE|9521                                  AC Hotel Palencia   \n",
       "2235   CODE|9486                       AC Hotel Palau de Bellavista   \n",
       "2236   CODE|9486                       AC Hotel Palau de Bellavista   \n",
       "2480    CODE|946                        Conrad Koh Samui Residences   \n",
       "2481    CODE|946                        Conrad Koh Samui Residences   \n",
       "\n",
       "      Roomnights   Sale   Cost       Date  \n",
       "31          1302  26040  19530 2019-09-01  \n",
       "32          1302  26040  19530 2019-09-01  \n",
       "33          1900  45600  30400 2019-05-01  \n",
       "34          1900  45600  30400 2019-05-01  \n",
       "35          1313  38077  23634 2019-02-01  \n",
       "36          1313  38077  23634 2019-02-01  \n",
       "163          793  18239  15067 2019-02-01  \n",
       "164          793  18239  15067 2019-02-01  \n",
       "165          435   9570   8700 2019-05-01  \n",
       "166          435   9570   8700 2019-05-01  \n",
       "2231         473  12771   8041 2019-07-01  \n",
       "2232         473  12771   8041 2019-07-01  \n",
       "2233         194   5820   2910 2019-10-01  \n",
       "2234         194   5820   2910 2019-10-01  \n",
       "2235         759  18975  12903 2019-11-01  \n",
       "2236         759  18975  12903 2019-11-01  \n",
       "2480        1100  29700  20900 2019-02-01  \n",
       "2481        1100  29700  20900 2019-02-01  "
      ]
     },
     "execution_count": 173,
     "metadata": {},
     "output_type": "execute_result"
    }
   ],
   "source": [
    "#[HotelSheet] display the 9 duplicate records\n",
    "df_hotel_duplicate = df[df.duplicated(keep=False)]\n",
    "df_hotel_duplicate"
   ]
  },
  {
   "cell_type": "markdown",
   "id": "0be31625",
   "metadata": {},
   "source": [
    ">*9 duplicate rows found. Need to remove duplicates.*"
   ]
  },
  {
   "cell_type": "markdown",
   "id": "7080e51f",
   "metadata": {},
   "source": [
    "#### 5- Check for data range[outliers]"
   ]
  },
  {
   "cell_type": "code",
   "execution_count": 174,
   "id": "fcade975",
   "metadata": {},
   "outputs": [
    {
     "data": {
      "text/html": [
       "<div>\n",
       "<style scoped>\n",
       "    .dataframe tbody tr th:only-of-type {\n",
       "        vertical-align: middle;\n",
       "    }\n",
       "\n",
       "    .dataframe tbody tr th {\n",
       "        vertical-align: top;\n",
       "    }\n",
       "\n",
       "    .dataframe thead th {\n",
       "        text-align: right;\n",
       "    }\n",
       "</style>\n",
       "<table border=\"1\" class=\"dataframe\">\n",
       "  <thead>\n",
       "    <tr style=\"text-align: right;\">\n",
       "      <th></th>\n",
       "      <th>Roomnights</th>\n",
       "      <th>Sale</th>\n",
       "      <th>Cost</th>\n",
       "    </tr>\n",
       "  </thead>\n",
       "  <tbody>\n",
       "    <tr>\n",
       "      <th>count</th>\n",
       "      <td>2509.000000</td>\n",
       "      <td>2509.000000</td>\n",
       "      <td>2509.000000</td>\n",
       "    </tr>\n",
       "    <tr>\n",
       "      <th>mean</th>\n",
       "      <td>1000.293344</td>\n",
       "      <td>25067.133121</td>\n",
       "      <td>17548.681148</td>\n",
       "    </tr>\n",
       "    <tr>\n",
       "      <th>std</th>\n",
       "      <td>575.654901</td>\n",
       "      <td>14896.844284</td>\n",
       "      <td>10294.119112</td>\n",
       "    </tr>\n",
       "    <tr>\n",
       "      <th>min</th>\n",
       "      <td>1.000000</td>\n",
       "      <td>28.000000</td>\n",
       "      <td>16.000000</td>\n",
       "    </tr>\n",
       "    <tr>\n",
       "      <th>25%</th>\n",
       "      <td>502.000000</td>\n",
       "      <td>12425.000000</td>\n",
       "      <td>8672.000000</td>\n",
       "    </tr>\n",
       "    <tr>\n",
       "      <th>50%</th>\n",
       "      <td>1002.000000</td>\n",
       "      <td>24648.000000</td>\n",
       "      <td>17480.000000</td>\n",
       "    </tr>\n",
       "    <tr>\n",
       "      <th>75%</th>\n",
       "      <td>1500.000000</td>\n",
       "      <td>37044.000000</td>\n",
       "      <td>25965.000000</td>\n",
       "    </tr>\n",
       "    <tr>\n",
       "      <th>max</th>\n",
       "      <td>1999.000000</td>\n",
       "      <td>59130.000000</td>\n",
       "      <td>39720.000000</td>\n",
       "    </tr>\n",
       "  </tbody>\n",
       "</table>\n",
       "</div>"
      ],
      "text/plain": [
       "        Roomnights          Sale          Cost\n",
       "count  2509.000000   2509.000000   2509.000000\n",
       "mean   1000.293344  25067.133121  17548.681148\n",
       "std     575.654901  14896.844284  10294.119112\n",
       "min       1.000000     28.000000     16.000000\n",
       "25%     502.000000  12425.000000   8672.000000\n",
       "50%    1002.000000  24648.000000  17480.000000\n",
       "75%    1500.000000  37044.000000  25965.000000\n",
       "max    1999.000000  59130.000000  39720.000000"
      ]
     },
     "execution_count": 174,
     "metadata": {},
     "output_type": "execute_result"
    }
   ],
   "source": [
    "df_hotel.describe()"
   ]
  },
  {
   "cell_type": "code",
   "execution_count": 175,
   "id": "b2e506e8",
   "metadata": {},
   "outputs": [
    {
     "data": {
      "text/plain": [
       "Code                                        CODE|1\n",
       "Hotel Name     Adagio Aparthotel Jeddah Malik Road\n",
       "Roomnights                                       1\n",
       "Sale                                            28\n",
       "Cost                                            16\n",
       "Date                                      01, 2019\n",
       "dtype: object"
      ]
     },
     "execution_count": 175,
     "metadata": {},
     "output_type": "execute_result"
    }
   ],
   "source": [
    "df_hotel.min()"
   ]
  },
  {
   "cell_type": "code",
   "execution_count": 176,
   "id": "d98ec518",
   "metadata": {},
   "outputs": [
    {
     "data": {
      "text/plain": [
       "Code                        CODE|9976\n",
       "Hotel Name    Áurea Washington Irving\n",
       "Roomnights                       1999\n",
       "Sale                            59130\n",
       "Cost                            39720\n",
       "Date                         12, 2019\n",
       "dtype: object"
      ]
     },
     "execution_count": 176,
     "metadata": {},
     "output_type": "execute_result"
    }
   ],
   "source": [
    "df_hotel.max()"
   ]
  },
  {
   "cell_type": "markdown",
   "id": "0cfb3c25",
   "metadata": {},
   "source": [
    ">*No outliers found.*"
   ]
  },
  {
   "cell_type": "markdown",
   "id": "8f88fee9",
   "metadata": {},
   "source": [
    "#### 6- Check for unique values"
   ]
  },
  {
   "cell_type": "code",
   "execution_count": 202,
   "id": "caf1d094",
   "metadata": {},
   "outputs": [
    {
     "data": {
      "text/plain": [
       "2019    2505\n",
       "2020       4\n",
       "Name: Date, dtype: int64"
      ]
     },
     "execution_count": 202,
     "metadata": {},
     "output_type": "execute_result"
    }
   ],
   "source": [
    "df['Date'].dt.year.value_counts()"
   ]
  },
  {
   "cell_type": "markdown",
   "id": "f91ea03d",
   "metadata": {},
   "source": [
    "### Areas Sheet:"
   ]
  },
  {
   "cell_type": "markdown",
   "id": "9c637678",
   "metadata": {},
   "source": [
    "##### We need to check the below:\n",
    "1. if the same country assigned to different codes.\n",
    "2. if any country has a NULL code value."
   ]
  },
  {
   "cell_type": "code",
   "execution_count": 177,
   "id": "ab4b9b96",
   "metadata": {},
   "outputs": [
    {
     "data": {
      "text/html": [
       "<div>\n",
       "<style scoped>\n",
       "    .dataframe tbody tr th:only-of-type {\n",
       "        vertical-align: middle;\n",
       "    }\n",
       "\n",
       "    .dataframe tbody tr th {\n",
       "        vertical-align: top;\n",
       "    }\n",
       "\n",
       "    .dataframe thead th {\n",
       "        text-align: right;\n",
       "    }\n",
       "</style>\n",
       "<table border=\"1\" class=\"dataframe\">\n",
       "  <thead>\n",
       "    <tr style=\"text-align: right;\">\n",
       "      <th></th>\n",
       "      <th>Hotel ID</th>\n",
       "      <th>Country</th>\n",
       "    </tr>\n",
       "  </thead>\n",
       "  <tbody>\n",
       "    <tr>\n",
       "      <th>0</th>\n",
       "      <td>CODE|9976</td>\n",
       "      <td>Spain</td>\n",
       "    </tr>\n",
       "    <tr>\n",
       "      <th>1</th>\n",
       "      <td>CODE|9941</td>\n",
       "      <td>Chile</td>\n",
       "    </tr>\n",
       "    <tr>\n",
       "      <th>2</th>\n",
       "      <td>CODE|9906</td>\n",
       "      <td>Colombia</td>\n",
       "    </tr>\n",
       "    <tr>\n",
       "      <th>3</th>\n",
       "      <td>CODE|9871</td>\n",
       "      <td>Mexico</td>\n",
       "    </tr>\n",
       "    <tr>\n",
       "      <th>4</th>\n",
       "      <td>CODE|9836</td>\n",
       "      <td>Spain</td>\n",
       "    </tr>\n",
       "  </tbody>\n",
       "</table>\n",
       "</div>"
      ],
      "text/plain": [
       "    Hotel ID   Country\n",
       "0  CODE|9976     Spain\n",
       "1  CODE|9941     Chile\n",
       "2  CODE|9906  Colombia\n",
       "3  CODE|9871    Mexico\n",
       "4  CODE|9836     Spain"
      ]
     },
     "execution_count": 177,
     "metadata": {},
     "output_type": "execute_result"
    }
   ],
   "source": [
    "df_area.head()"
   ]
  },
  {
   "cell_type": "code",
   "execution_count": 178,
   "id": "f297ab32",
   "metadata": {},
   "outputs": [
    {
     "name": "stdout",
     "output_type": "stream",
     "text": [
      "<class 'pandas.core.frame.DataFrame'>\n",
      "RangeIndex: 2499 entries, 0 to 2498\n",
      "Data columns (total 2 columns):\n",
      " #   Column    Non-Null Count  Dtype \n",
      "---  ------    --------------  ----- \n",
      " 0   Hotel ID  2499 non-null   object\n",
      " 1   Country   2499 non-null   object\n",
      "dtypes: object(2)\n",
      "memory usage: 39.2+ KB\n"
     ]
    }
   ],
   "source": [
    "df_area.info()"
   ]
  },
  {
   "cell_type": "code",
   "execution_count": 179,
   "id": "855a8450",
   "metadata": {},
   "outputs": [
    {
     "data": {
      "text/plain": [
       "(2499, 2)"
      ]
     },
     "execution_count": 179,
     "metadata": {},
     "output_type": "execute_result"
    }
   ],
   "source": [
    "df_area.shape"
   ]
  },
  {
   "cell_type": "code",
   "execution_count": 180,
   "id": "b3e655a3",
   "metadata": {},
   "outputs": [
    {
     "data": {
      "text/plain": [
       "Hotel ID    0\n",
       "Country     0\n",
       "dtype: int64"
      ]
     },
     "execution_count": 180,
     "metadata": {},
     "output_type": "execute_result"
    }
   ],
   "source": [
    "df_area.isna().sum()"
   ]
  },
  {
   "cell_type": "code",
   "execution_count": 181,
   "id": "312471ca",
   "metadata": {},
   "outputs": [
    {
     "data": {
      "text/plain": [
       "9"
      ]
     },
     "execution_count": 181,
     "metadata": {},
     "output_type": "execute_result"
    }
   ],
   "source": [
    "sum(df_area.duplicated())"
   ]
  },
  {
   "cell_type": "code",
   "execution_count": 182,
   "id": "321b4294",
   "metadata": {},
   "outputs": [
    {
     "data": {
      "text/html": [
       "<div>\n",
       "<style scoped>\n",
       "    .dataframe tbody tr th:only-of-type {\n",
       "        vertical-align: middle;\n",
       "    }\n",
       "\n",
       "    .dataframe tbody tr th {\n",
       "        vertical-align: top;\n",
       "    }\n",
       "\n",
       "    .dataframe thead th {\n",
       "        text-align: right;\n",
       "    }\n",
       "</style>\n",
       "<table border=\"1\" class=\"dataframe\">\n",
       "  <thead>\n",
       "    <tr style=\"text-align: right;\">\n",
       "      <th></th>\n",
       "      <th>Hotel ID</th>\n",
       "      <th>Country</th>\n",
       "    </tr>\n",
       "  </thead>\n",
       "  <tbody>\n",
       "    <tr>\n",
       "      <th>13</th>\n",
       "      <td>CODE|9556</td>\n",
       "      <td>France</td>\n",
       "    </tr>\n",
       "    <tr>\n",
       "      <th>14</th>\n",
       "      <td>CODE|9556</td>\n",
       "      <td>France</td>\n",
       "    </tr>\n",
       "    <tr>\n",
       "      <th>15</th>\n",
       "      <td>CODE|9521</td>\n",
       "      <td>Spain</td>\n",
       "    </tr>\n",
       "    <tr>\n",
       "      <th>16</th>\n",
       "      <td>CODE|9521</td>\n",
       "      <td>Spain</td>\n",
       "    </tr>\n",
       "    <tr>\n",
       "      <th>17</th>\n",
       "      <td>CODE|9486</td>\n",
       "      <td>Spain</td>\n",
       "    </tr>\n",
       "    <tr>\n",
       "      <th>18</th>\n",
       "      <td>CODE|9486</td>\n",
       "      <td>Spain</td>\n",
       "    </tr>\n",
       "    <tr>\n",
       "      <th>19</th>\n",
       "      <td>CODE|946</td>\n",
       "      <td>Thailand</td>\n",
       "    </tr>\n",
       "    <tr>\n",
       "      <th>20</th>\n",
       "      <td>CODE|946</td>\n",
       "      <td>Thailand</td>\n",
       "    </tr>\n",
       "    <tr>\n",
       "      <th>67</th>\n",
       "      <td>CODE|86766</td>\n",
       "      <td>USA</td>\n",
       "    </tr>\n",
       "    <tr>\n",
       "      <th>68</th>\n",
       "      <td>CODE|86766</td>\n",
       "      <td>USA</td>\n",
       "    </tr>\n",
       "    <tr>\n",
       "      <th>69</th>\n",
       "      <td>CODE|86731</td>\n",
       "      <td>France</td>\n",
       "    </tr>\n",
       "    <tr>\n",
       "      <th>70</th>\n",
       "      <td>CODE|86731</td>\n",
       "      <td>France</td>\n",
       "    </tr>\n",
       "    <tr>\n",
       "      <th>71</th>\n",
       "      <td>CODE|86696</td>\n",
       "      <td>USA</td>\n",
       "    </tr>\n",
       "    <tr>\n",
       "      <th>72</th>\n",
       "      <td>CODE|86696</td>\n",
       "      <td>USA</td>\n",
       "    </tr>\n",
       "    <tr>\n",
       "      <th>213</th>\n",
       "      <td>CODE|82251</td>\n",
       "      <td>Italy</td>\n",
       "    </tr>\n",
       "    <tr>\n",
       "      <th>214</th>\n",
       "      <td>CODE|82251</td>\n",
       "      <td>Italy</td>\n",
       "    </tr>\n",
       "    <tr>\n",
       "      <th>215</th>\n",
       "      <td>CODE|82216</td>\n",
       "      <td>USA</td>\n",
       "    </tr>\n",
       "    <tr>\n",
       "      <th>216</th>\n",
       "      <td>CODE|82216</td>\n",
       "      <td>USA</td>\n",
       "    </tr>\n",
       "  </tbody>\n",
       "</table>\n",
       "</div>"
      ],
      "text/plain": [
       "       Hotel ID   Country\n",
       "13    CODE|9556    France\n",
       "14    CODE|9556    France\n",
       "15    CODE|9521     Spain\n",
       "16    CODE|9521     Spain\n",
       "17    CODE|9486     Spain\n",
       "18    CODE|9486     Spain\n",
       "19     CODE|946  Thailand\n",
       "20     CODE|946  Thailand\n",
       "67   CODE|86766       USA\n",
       "68   CODE|86766       USA\n",
       "69   CODE|86731    France\n",
       "70   CODE|86731    France\n",
       "71   CODE|86696       USA\n",
       "72   CODE|86696       USA\n",
       "213  CODE|82251     Italy\n",
       "214  CODE|82251     Italy\n",
       "215  CODE|82216       USA\n",
       "216  CODE|82216       USA"
      ]
     },
     "execution_count": 182,
     "metadata": {},
     "output_type": "execute_result"
    }
   ],
   "source": [
    "df_area_duplicate = df_area[df_area.duplicated(keep=False)]\n",
    "df_area_duplicate"
   ]
  },
  {
   "cell_type": "markdown",
   "id": "89b04e7c",
   "metadata": {},
   "source": [
    ">*Hotel Id must be renamed to 'Code' to match Hotel sheet.*"
   ]
  },
  {
   "cell_type": "markdown",
   "id": "4e87f3ce",
   "metadata": {},
   "source": [
    "### Issues Summary\n",
    "1. [Hotel sheet] [Area sheet]Remove duplicate records.\n",
    "2. [Hotel sheet]Convert Date column to Date type instead of Object. \n",
    "3. [Area sheet]Rename 'Hotel ID' Column to 'Code' to match the Hotel sheet for joining step.\n",
    "4. [Hotel sheet]Add '_' to columns [Hotel Name, Roomnights].\n",
    "5. [Hotel sheet]Delete records of 2020year. \n",
    "6. Join Hotel and Area sheet using Code column."
   ]
  },
  {
   "cell_type": "markdown",
   "id": "cc3651ed",
   "metadata": {},
   "source": [
    "### Data Cleaning "
   ]
  },
  {
   "cell_type": "markdown",
   "id": "ccfad951",
   "metadata": {},
   "source": [
    "#### 1- Remove duplicate records "
   ]
  },
  {
   "cell_type": "code",
   "execution_count": 183,
   "id": "a05ba991",
   "metadata": {},
   "outputs": [],
   "source": [
    "##remove duplicate from Hotel sheet\n",
    "df_hotel = df_hotel.drop_duplicates()"
   ]
  },
  {
   "cell_type": "code",
   "execution_count": 184,
   "id": "44981bdb",
   "metadata": {},
   "outputs": [],
   "source": [
    "##remove duplicate from Area sheet\n",
    "df_area= df_area.drop_duplicates()"
   ]
  },
  {
   "cell_type": "markdown",
   "id": "776f2d44",
   "metadata": {},
   "source": [
    "#### 2- Change Date type"
   ]
  },
  {
   "cell_type": "code",
   "execution_count": 185,
   "id": "fcce1388",
   "metadata": {},
   "outputs": [],
   "source": [
    "df_hotel[\"Date\"]= pd.to_datetime(df_hotel[\"Date\"])"
   ]
  },
  {
   "cell_type": "code",
   "execution_count": 186,
   "id": "3ce997da",
   "metadata": {},
   "outputs": [
    {
     "data": {
      "text/html": [
       "<div>\n",
       "<style scoped>\n",
       "    .dataframe tbody tr th:only-of-type {\n",
       "        vertical-align: middle;\n",
       "    }\n",
       "\n",
       "    .dataframe tbody tr th {\n",
       "        vertical-align: top;\n",
       "    }\n",
       "\n",
       "    .dataframe thead th {\n",
       "        text-align: right;\n",
       "    }\n",
       "</style>\n",
       "<table border=\"1\" class=\"dataframe\">\n",
       "  <thead>\n",
       "    <tr style=\"text-align: right;\">\n",
       "      <th></th>\n",
       "      <th>Code</th>\n",
       "      <th>Hotel Name</th>\n",
       "      <th>Roomnights</th>\n",
       "      <th>Sale</th>\n",
       "      <th>Cost</th>\n",
       "      <th>Date</th>\n",
       "    </tr>\n",
       "  </thead>\n",
       "  <tbody>\n",
       "    <tr>\n",
       "      <th>0</th>\n",
       "      <td>CODE|87851</td>\n",
       "      <td>Best Western Premier Al Ahsa Grand Hotel &amp; Suites</td>\n",
       "      <td>57</td>\n",
       "      <td>1140</td>\n",
       "      <td>1140</td>\n",
       "      <td>2019-01-01</td>\n",
       "    </tr>\n",
       "    <tr>\n",
       "      <th>1</th>\n",
       "      <td>CODE|87816</td>\n",
       "      <td>Best Western Premier Airporthotel Fontane Berlin</td>\n",
       "      <td>1935</td>\n",
       "      <td>50310</td>\n",
       "      <td>38700</td>\n",
       "      <td>2019-08-01</td>\n",
       "    </tr>\n",
       "    <tr>\n",
       "      <th>2</th>\n",
       "      <td>CODE|87781</td>\n",
       "      <td>Best Western Premier Agung Resort Ubud</td>\n",
       "      <td>1897</td>\n",
       "      <td>37940</td>\n",
       "      <td>34146</td>\n",
       "      <td>2019-01-01</td>\n",
       "    </tr>\n",
       "    <tr>\n",
       "      <th>3</th>\n",
       "      <td>CODE|87746</td>\n",
       "      <td>Best Western Posada Freeman</td>\n",
       "      <td>1294</td>\n",
       "      <td>38820</td>\n",
       "      <td>25880</td>\n",
       "      <td>2019-06-01</td>\n",
       "    </tr>\n",
       "    <tr>\n",
       "      <th>4</th>\n",
       "      <td>CODE|87711</td>\n",
       "      <td>Best Western Pony Soldier Inn &amp; Suites</td>\n",
       "      <td>828</td>\n",
       "      <td>22356</td>\n",
       "      <td>13248</td>\n",
       "      <td>2019-12-01</td>\n",
       "    </tr>\n",
       "  </tbody>\n",
       "</table>\n",
       "</div>"
      ],
      "text/plain": [
       "         Code                                         Hotel Name  Roomnights  \\\n",
       "0  CODE|87851  Best Western Premier Al Ahsa Grand Hotel & Suites          57   \n",
       "1  CODE|87816   Best Western Premier Airporthotel Fontane Berlin        1935   \n",
       "2  CODE|87781             Best Western Premier Agung Resort Ubud        1897   \n",
       "3  CODE|87746                        Best Western Posada Freeman        1294   \n",
       "4  CODE|87711             Best Western Pony Soldier Inn & Suites         828   \n",
       "\n",
       "    Sale   Cost       Date  \n",
       "0   1140   1140 2019-01-01  \n",
       "1  50310  38700 2019-08-01  \n",
       "2  37940  34146 2019-01-01  \n",
       "3  38820  25880 2019-06-01  \n",
       "4  22356  13248 2019-12-01  "
      ]
     },
     "execution_count": 186,
     "metadata": {},
     "output_type": "execute_result"
    }
   ],
   "source": [
    "df_hotel.head()"
   ]
  },
  {
   "cell_type": "markdown",
   "id": "44d6ebb2",
   "metadata": {},
   "source": [
    "#### 3- Rename 'Hotel ID' column to 'Code'"
   ]
  },
  {
   "cell_type": "code",
   "execution_count": 187,
   "id": "d5342dd7",
   "metadata": {},
   "outputs": [],
   "source": [
    "df_area = df_area.rename(columns={'Hotel ID': 'Code'})"
   ]
  },
  {
   "cell_type": "markdown",
   "id": "30be4954",
   "metadata": {},
   "source": [
    "#### 4- Rename Columns"
   ]
  },
  {
   "cell_type": "code",
   "execution_count": 188,
   "id": "10edf2cd",
   "metadata": {},
   "outputs": [],
   "source": [
    "df_hotel = df_hotel.rename(columns={'Hotel Name': 'Hotel_Name', 'Roomnights': 'Room_Nights'})"
   ]
  },
  {
   "cell_type": "code",
   "execution_count": 207,
   "id": "e5e961ed",
   "metadata": {},
   "outputs": [],
   "source": [
    "df_hotel.drop(df.loc[df[\"Date\"] == 2020].index, inplace=True)"
   ]
  },
  {
   "cell_type": "markdown",
   "id": "d93d904d",
   "metadata": {},
   "source": [
    "#### 5- Merge Hotel and Area based on 'Code' Column."
   ]
  },
  {
   "cell_type": "code",
   "execution_count": 189,
   "id": "5099e6e4",
   "metadata": {},
   "outputs": [],
   "source": [
    "df_merged = pd.merge(df_hotel, df_area, on='Code')"
   ]
  },
  {
   "cell_type": "code",
   "execution_count": 190,
   "id": "503a5f9f",
   "metadata": {},
   "outputs": [
    {
     "data": {
      "text/html": [
       "<div>\n",
       "<style scoped>\n",
       "    .dataframe tbody tr th:only-of-type {\n",
       "        vertical-align: middle;\n",
       "    }\n",
       "\n",
       "    .dataframe tbody tr th {\n",
       "        vertical-align: top;\n",
       "    }\n",
       "\n",
       "    .dataframe thead th {\n",
       "        text-align: right;\n",
       "    }\n",
       "</style>\n",
       "<table border=\"1\" class=\"dataframe\">\n",
       "  <thead>\n",
       "    <tr style=\"text-align: right;\">\n",
       "      <th></th>\n",
       "      <th>Code</th>\n",
       "      <th>Hotel_Name</th>\n",
       "      <th>Room_Nights</th>\n",
       "      <th>Sale</th>\n",
       "      <th>Cost</th>\n",
       "      <th>Date</th>\n",
       "      <th>Country</th>\n",
       "    </tr>\n",
       "  </thead>\n",
       "  <tbody>\n",
       "    <tr>\n",
       "      <th>0</th>\n",
       "      <td>CODE|87851</td>\n",
       "      <td>Best Western Premier Al Ahsa Grand Hotel &amp; Suites</td>\n",
       "      <td>57</td>\n",
       "      <td>1140</td>\n",
       "      <td>1140</td>\n",
       "      <td>2019-01-01</td>\n",
       "      <td>Saudi Arabia</td>\n",
       "    </tr>\n",
       "    <tr>\n",
       "      <th>1</th>\n",
       "      <td>CODE|87816</td>\n",
       "      <td>Best Western Premier Airporthotel Fontane Berlin</td>\n",
       "      <td>1935</td>\n",
       "      <td>50310</td>\n",
       "      <td>38700</td>\n",
       "      <td>2019-08-01</td>\n",
       "      <td>Germany</td>\n",
       "    </tr>\n",
       "    <tr>\n",
       "      <th>2</th>\n",
       "      <td>CODE|87781</td>\n",
       "      <td>Best Western Premier Agung Resort Ubud</td>\n",
       "      <td>1897</td>\n",
       "      <td>37940</td>\n",
       "      <td>34146</td>\n",
       "      <td>2019-01-01</td>\n",
       "      <td>Indonesia</td>\n",
       "    </tr>\n",
       "    <tr>\n",
       "      <th>3</th>\n",
       "      <td>CODE|87746</td>\n",
       "      <td>Best Western Posada Freeman</td>\n",
       "      <td>1294</td>\n",
       "      <td>38820</td>\n",
       "      <td>25880</td>\n",
       "      <td>2019-06-01</td>\n",
       "      <td>Mexico</td>\n",
       "    </tr>\n",
       "    <tr>\n",
       "      <th>4</th>\n",
       "      <td>CODE|87711</td>\n",
       "      <td>Best Western Pony Soldier Inn &amp; Suites</td>\n",
       "      <td>828</td>\n",
       "      <td>22356</td>\n",
       "      <td>13248</td>\n",
       "      <td>2019-12-01</td>\n",
       "      <td>USA</td>\n",
       "    </tr>\n",
       "  </tbody>\n",
       "</table>\n",
       "</div>"
      ],
      "text/plain": [
       "         Code                                         Hotel_Name  Room_Nights  \\\n",
       "0  CODE|87851  Best Western Premier Al Ahsa Grand Hotel & Suites           57   \n",
       "1  CODE|87816   Best Western Premier Airporthotel Fontane Berlin         1935   \n",
       "2  CODE|87781             Best Western Premier Agung Resort Ubud         1897   \n",
       "3  CODE|87746                        Best Western Posada Freeman         1294   \n",
       "4  CODE|87711             Best Western Pony Soldier Inn & Suites          828   \n",
       "\n",
       "    Sale   Cost       Date       Country  \n",
       "0   1140   1140 2019-01-01  Saudi Arabia  \n",
       "1  50310  38700 2019-08-01       Germany  \n",
       "2  37940  34146 2019-01-01     Indonesia  \n",
       "3  38820  25880 2019-06-01        Mexico  \n",
       "4  22356  13248 2019-12-01           USA  "
      ]
     },
     "execution_count": 190,
     "metadata": {},
     "output_type": "execute_result"
    }
   ],
   "source": [
    "df_merged.head()"
   ]
  },
  {
   "cell_type": "markdown",
   "id": "46a7b6fd",
   "metadata": {},
   "source": [
    "### Feature Engineering "
   ]
  },
  {
   "cell_type": "markdown",
   "id": "8db4cffe",
   "metadata": {},
   "source": [
    "#### 1- Cluster the data by room nights into three categories: high demand, mid demand, and low demand in a new column and identify the distribution."
   ]
  },
  {
   "cell_type": "code",
   "execution_count": 191,
   "id": "2edfa24a",
   "metadata": {},
   "outputs": [
    {
     "data": {
      "text/plain": [
       "1"
      ]
     },
     "execution_count": 191,
     "metadata": {},
     "output_type": "execute_result"
    }
   ],
   "source": [
    "df_merged['Room_Nights'].min()"
   ]
  },
  {
   "cell_type": "code",
   "execution_count": 192,
   "id": "ff543c7d",
   "metadata": {},
   "outputs": [
    {
     "data": {
      "text/plain": [
       "1999"
      ]
     },
     "execution_count": 192,
     "metadata": {},
     "output_type": "execute_result"
    }
   ],
   "source": [
    "df_merged['Room_Nights'].max()"
   ]
  },
  {
   "cell_type": "markdown",
   "id": "94e43128",
   "metadata": {},
   "source": [
    "#### Since the min and max of reserved room nights are 1 and 1999 so the demand distribuation will be as follow:\n",
    "- Low Demand: 1 to X room nights\n",
    "- Mid Demand: X+1 to Y room nights\n",
    "- High Demand: Y+1 to 1999 room nights\n",
    "\n",
    ">Y and X values supposed to be defined by the bussiness but will assume that X=100 and Y= 1000"
   ]
  },
  {
   "cell_type": "code",
   "execution_count": 193,
   "id": "cb6ff3d9",
   "metadata": {},
   "outputs": [],
   "source": [
    "# Define the bin edges for clustering\n",
    "bin_edges = [0, 100, 1000, 1999]"
   ]
  },
  {
   "cell_type": "code",
   "execution_count": 194,
   "id": "e018a3bd",
   "metadata": {},
   "outputs": [],
   "source": [
    "# Define labels for the clusters\n",
    "bin_labels = ['low demand', 'mid demand', 'high demand']"
   ]
  },
  {
   "cell_type": "code",
   "execution_count": 195,
   "id": "cebfbe7b",
   "metadata": {},
   "outputs": [],
   "source": [
    "df_merged['Demand_Distribution'] = pd.cut(merged_df['Room_Nights'], bins=bin_edges, labels=bin_labels)"
   ]
  },
  {
   "cell_type": "code",
   "execution_count": 196,
   "id": "0da4d0ee",
   "metadata": {},
   "outputs": [
    {
     "data": {
      "text/html": [
       "<div>\n",
       "<style scoped>\n",
       "    .dataframe tbody tr th:only-of-type {\n",
       "        vertical-align: middle;\n",
       "    }\n",
       "\n",
       "    .dataframe tbody tr th {\n",
       "        vertical-align: top;\n",
       "    }\n",
       "\n",
       "    .dataframe thead th {\n",
       "        text-align: right;\n",
       "    }\n",
       "</style>\n",
       "<table border=\"1\" class=\"dataframe\">\n",
       "  <thead>\n",
       "    <tr style=\"text-align: right;\">\n",
       "      <th></th>\n",
       "      <th>Code</th>\n",
       "      <th>Hotel_Name</th>\n",
       "      <th>Room_Nights</th>\n",
       "      <th>Sale</th>\n",
       "      <th>Cost</th>\n",
       "      <th>Date</th>\n",
       "      <th>Country</th>\n",
       "      <th>Demand_Distribution</th>\n",
       "    </tr>\n",
       "  </thead>\n",
       "  <tbody>\n",
       "    <tr>\n",
       "      <th>0</th>\n",
       "      <td>CODE|87851</td>\n",
       "      <td>Best Western Premier Al Ahsa Grand Hotel &amp; Suites</td>\n",
       "      <td>57</td>\n",
       "      <td>1140</td>\n",
       "      <td>1140</td>\n",
       "      <td>2019-01-01</td>\n",
       "      <td>Saudi Arabia</td>\n",
       "      <td>low demand</td>\n",
       "    </tr>\n",
       "    <tr>\n",
       "      <th>1</th>\n",
       "      <td>CODE|87816</td>\n",
       "      <td>Best Western Premier Airporthotel Fontane Berlin</td>\n",
       "      <td>1935</td>\n",
       "      <td>50310</td>\n",
       "      <td>38700</td>\n",
       "      <td>2019-08-01</td>\n",
       "      <td>Germany</td>\n",
       "      <td>high demand</td>\n",
       "    </tr>\n",
       "    <tr>\n",
       "      <th>2</th>\n",
       "      <td>CODE|87781</td>\n",
       "      <td>Best Western Premier Agung Resort Ubud</td>\n",
       "      <td>1897</td>\n",
       "      <td>37940</td>\n",
       "      <td>34146</td>\n",
       "      <td>2019-01-01</td>\n",
       "      <td>Indonesia</td>\n",
       "      <td>high demand</td>\n",
       "    </tr>\n",
       "    <tr>\n",
       "      <th>3</th>\n",
       "      <td>CODE|87746</td>\n",
       "      <td>Best Western Posada Freeman</td>\n",
       "      <td>1294</td>\n",
       "      <td>38820</td>\n",
       "      <td>25880</td>\n",
       "      <td>2019-06-01</td>\n",
       "      <td>Mexico</td>\n",
       "      <td>high demand</td>\n",
       "    </tr>\n",
       "    <tr>\n",
       "      <th>4</th>\n",
       "      <td>CODE|87711</td>\n",
       "      <td>Best Western Pony Soldier Inn &amp; Suites</td>\n",
       "      <td>828</td>\n",
       "      <td>22356</td>\n",
       "      <td>13248</td>\n",
       "      <td>2019-12-01</td>\n",
       "      <td>USA</td>\n",
       "      <td>mid demand</td>\n",
       "    </tr>\n",
       "  </tbody>\n",
       "</table>\n",
       "</div>"
      ],
      "text/plain": [
       "         Code                                         Hotel_Name  Room_Nights  \\\n",
       "0  CODE|87851  Best Western Premier Al Ahsa Grand Hotel & Suites           57   \n",
       "1  CODE|87816   Best Western Premier Airporthotel Fontane Berlin         1935   \n",
       "2  CODE|87781             Best Western Premier Agung Resort Ubud         1897   \n",
       "3  CODE|87746                        Best Western Posada Freeman         1294   \n",
       "4  CODE|87711             Best Western Pony Soldier Inn & Suites          828   \n",
       "\n",
       "    Sale   Cost       Date       Country Demand_Distribution  \n",
       "0   1140   1140 2019-01-01  Saudi Arabia          low demand  \n",
       "1  50310  38700 2019-08-01       Germany         high demand  \n",
       "2  37940  34146 2019-01-01     Indonesia         high demand  \n",
       "3  38820  25880 2019-06-01        Mexico         high demand  \n",
       "4  22356  13248 2019-12-01           USA          mid demand  "
      ]
     },
     "execution_count": 196,
     "metadata": {},
     "output_type": "execute_result"
    }
   ],
   "source": [
    "df_merged.head()"
   ]
  },
  {
   "cell_type": "markdown",
   "id": "e99de03d",
   "metadata": {},
   "source": [
    "#### 2- Adding Profit and Loss Columns"
   ]
  },
  {
   "cell_type": "code",
   "execution_count": 197,
   "id": "cf07297f",
   "metadata": {},
   "outputs": [],
   "source": [
    "df_merged['Profit'] = merged_df.apply(lambda row: max(row['Sale'] - row['Cost'], 0), axis=1)"
   ]
  },
  {
   "cell_type": "code",
   "execution_count": 198,
   "id": "de1f1b13",
   "metadata": {},
   "outputs": [],
   "source": [
    "df_merged['Loss'] = merged_df.apply(lambda row: max(row['Cost'] - row['Sale'], 0), axis=1)"
   ]
  },
  {
   "cell_type": "code",
   "execution_count": 199,
   "id": "fef97bf5",
   "metadata": {},
   "outputs": [
    {
     "data": {
      "text/html": [
       "<div>\n",
       "<style scoped>\n",
       "    .dataframe tbody tr th:only-of-type {\n",
       "        vertical-align: middle;\n",
       "    }\n",
       "\n",
       "    .dataframe tbody tr th {\n",
       "        vertical-align: top;\n",
       "    }\n",
       "\n",
       "    .dataframe thead th {\n",
       "        text-align: right;\n",
       "    }\n",
       "</style>\n",
       "<table border=\"1\" class=\"dataframe\">\n",
       "  <thead>\n",
       "    <tr style=\"text-align: right;\">\n",
       "      <th></th>\n",
       "      <th>Code</th>\n",
       "      <th>Hotel_Name</th>\n",
       "      <th>Room_Nights</th>\n",
       "      <th>Sale</th>\n",
       "      <th>Cost</th>\n",
       "      <th>Date</th>\n",
       "      <th>Country</th>\n",
       "      <th>Demand_Distribution</th>\n",
       "      <th>Profit</th>\n",
       "      <th>Loss</th>\n",
       "    </tr>\n",
       "  </thead>\n",
       "  <tbody>\n",
       "    <tr>\n",
       "      <th>0</th>\n",
       "      <td>CODE|87851</td>\n",
       "      <td>Best Western Premier Al Ahsa Grand Hotel &amp; Suites</td>\n",
       "      <td>57</td>\n",
       "      <td>1140</td>\n",
       "      <td>1140</td>\n",
       "      <td>2019-01-01</td>\n",
       "      <td>Saudi Arabia</td>\n",
       "      <td>low demand</td>\n",
       "      <td>0</td>\n",
       "      <td>0</td>\n",
       "    </tr>\n",
       "    <tr>\n",
       "      <th>1</th>\n",
       "      <td>CODE|87816</td>\n",
       "      <td>Best Western Premier Airporthotel Fontane Berlin</td>\n",
       "      <td>1935</td>\n",
       "      <td>50310</td>\n",
       "      <td>38700</td>\n",
       "      <td>2019-08-01</td>\n",
       "      <td>Germany</td>\n",
       "      <td>high demand</td>\n",
       "      <td>11610</td>\n",
       "      <td>0</td>\n",
       "    </tr>\n",
       "    <tr>\n",
       "      <th>2</th>\n",
       "      <td>CODE|87781</td>\n",
       "      <td>Best Western Premier Agung Resort Ubud</td>\n",
       "      <td>1897</td>\n",
       "      <td>37940</td>\n",
       "      <td>34146</td>\n",
       "      <td>2019-01-01</td>\n",
       "      <td>Indonesia</td>\n",
       "      <td>high demand</td>\n",
       "      <td>3794</td>\n",
       "      <td>0</td>\n",
       "    </tr>\n",
       "    <tr>\n",
       "      <th>3</th>\n",
       "      <td>CODE|87746</td>\n",
       "      <td>Best Western Posada Freeman</td>\n",
       "      <td>1294</td>\n",
       "      <td>38820</td>\n",
       "      <td>25880</td>\n",
       "      <td>2019-06-01</td>\n",
       "      <td>Mexico</td>\n",
       "      <td>high demand</td>\n",
       "      <td>12940</td>\n",
       "      <td>0</td>\n",
       "    </tr>\n",
       "    <tr>\n",
       "      <th>4</th>\n",
       "      <td>CODE|87711</td>\n",
       "      <td>Best Western Pony Soldier Inn &amp; Suites</td>\n",
       "      <td>828</td>\n",
       "      <td>22356</td>\n",
       "      <td>13248</td>\n",
       "      <td>2019-12-01</td>\n",
       "      <td>USA</td>\n",
       "      <td>mid demand</td>\n",
       "      <td>9108</td>\n",
       "      <td>0</td>\n",
       "    </tr>\n",
       "  </tbody>\n",
       "</table>\n",
       "</div>"
      ],
      "text/plain": [
       "         Code                                         Hotel_Name  Room_Nights  \\\n",
       "0  CODE|87851  Best Western Premier Al Ahsa Grand Hotel & Suites           57   \n",
       "1  CODE|87816   Best Western Premier Airporthotel Fontane Berlin         1935   \n",
       "2  CODE|87781             Best Western Premier Agung Resort Ubud         1897   \n",
       "3  CODE|87746                        Best Western Posada Freeman         1294   \n",
       "4  CODE|87711             Best Western Pony Soldier Inn & Suites          828   \n",
       "\n",
       "    Sale   Cost       Date       Country Demand_Distribution  Profit  Loss  \n",
       "0   1140   1140 2019-01-01  Saudi Arabia          low demand       0     0  \n",
       "1  50310  38700 2019-08-01       Germany         high demand   11610     0  \n",
       "2  37940  34146 2019-01-01     Indonesia         high demand    3794     0  \n",
       "3  38820  25880 2019-06-01        Mexico         high demand   12940     0  \n",
       "4  22356  13248 2019-12-01           USA          mid demand    9108     0  "
      ]
     },
     "execution_count": 199,
     "metadata": {},
     "output_type": "execute_result"
    }
   ],
   "source": [
    "df_merged.head()"
   ]
  },
  {
   "cell_type": "markdown",
   "id": "53fdb6d5",
   "metadata": {},
   "source": [
    "## Exploratory Data Analysis\n",
    "\n",
    "> Now we've trimmed and cleaned the data, we're ready to move on to exploration and answer the below questions using Tableau then creating our dashboard.\n",
    "\n",
    "### Research Question 1 (Hotels with highest profitability and losses?)\n",
    "### Research Question 2 (Countries with highest profitability and losses?).\n",
    "### Research Question 3 (Total Sales per country?)"
   ]
  },
  {
   "cell_type": "code",
   "execution_count": 200,
   "id": "3c19a324",
   "metadata": {},
   "outputs": [],
   "source": [
    "##create new excel sheet\n",
    "df_merged.to_excel('C:\\\\Data Analysis\\\\EETTask\\\\FirstTask\\\\New_Hotel.xlsx', index=False, encoding='utf-8')"
   ]
  }
 ],
 "metadata": {
  "kernelspec": {
   "display_name": "Python 3 (ipykernel)",
   "language": "python",
   "name": "python3"
  },
  "language_info": {
   "codemirror_mode": {
    "name": "ipython",
    "version": 3
   },
   "file_extension": ".py",
   "mimetype": "text/x-python",
   "name": "python",
   "nbconvert_exporter": "python",
   "pygments_lexer": "ipython3",
   "version": "3.9.7"
  }
 },
 "nbformat": 4,
 "nbformat_minor": 5
}
